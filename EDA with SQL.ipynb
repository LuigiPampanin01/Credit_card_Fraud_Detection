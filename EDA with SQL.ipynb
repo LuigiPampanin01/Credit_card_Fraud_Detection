{
 "cells": [
  {
   "cell_type": "markdown",
   "metadata": {},
   "source": [
    "# Fraud Detection Analysis | Exploratory Data Analysis with SQL\n",
    "\n",
    "In this analysis, we will load our fraud detection dataset into a SQL server to perform various queries and gain insights. We will start by importing the dataset into the server, ensuring that the data is properly structured and indexed for efficient querying. Once the data is loaded, we will execute a series of SQL queries to explore the dataset, identify patterns, and detect any anomalies. This will include aggregating data, filtering records, joining tables, and using advanced SQL functions to uncover trends and correlations that could indicate fraudulent activities. Through this process, we aim to build a comprehensive understanding of the dataset and lay the groundwork for further analysis and model building."
   ]
  },
  {
   "cell_type": "markdown",
   "metadata": {},
   "source": [
    "Load the SQL extension for Jupyter"
   ]
  },
  {
   "cell_type": "code",
   "execution_count": 2,
   "metadata": {},
   "outputs": [
    {
     "name": "stdout",
     "output_type": "stream",
     "text": [
      "The sql extension is already loaded. To reload it, use:\n",
      "  %reload_ext sql\n"
     ]
    }
   ],
   "source": [
    "%load_ext sql"
   ]
  },
  {
   "cell_type": "markdown",
   "metadata": {},
   "source": [
    "Establish SQLite connection"
   ]
  },
  {
   "cell_type": "code",
   "execution_count": 3,
   "metadata": {},
   "outputs": [],
   "source": [
    "# Import necessary libraries\n",
    "import csv, sqlite3\n",
    "import pandas as pd\n",
    "\n",
    "con = sqlite3.connect(\"my_data1.db\")\n",
    "cur = con.cursor()"
   ]
  },
  {
   "cell_type": "markdown",
   "metadata": {},
   "source": [
    "Connect to SQLite using SQL magic"
   ]
  },
  {
   "cell_type": "code",
   "execution_count": 4,
   "metadata": {},
   "outputs": [],
   "source": [
    "%sql sqlite:///my_data1.db"
   ]
  },
  {
   "cell_type": "markdown",
   "metadata": {},
   "source": [
    "Upload the dataset in the database; it's done through chunks because SQLite has a limit on the number of variables (columns) that can be used in a single SQL statement."
   ]
  },
  {
   "cell_type": "code",
   "execution_count": 6,
   "metadata": {},
   "outputs": [],
   "source": [
    "# Read CSV into pandas DataFrame\n",
    "file_name = 'DATA/creditcard.csv'\n",
    "data = pd.read_csv(file_name)\n",
    "\n",
    "# Import DataFrame to SQLite table in chunks\n",
    "chunk_size = 1000  # Adjust the chunk size if necessary\n",
    "for i in range(0, len(data), chunk_size):\n",
    "    data_chunk = data.iloc[i:i + chunk_size]\n",
    "    data_chunk.to_sql(\"CREDIT_FRAUD\", con, if_exists='append', index=False)"
   ]
  },
  {
   "cell_type": "markdown",
   "metadata": {},
   "source": [
    "Create a table "
   ]
  },
  {
   "cell_type": "code",
   "execution_count": 7,
   "metadata": {},
   "outputs": [
    {
     "name": "stdout",
     "output_type": "stream",
     "text": [
      " * sqlite:///my_data1.db\n",
      "Done.\n"
     ]
    },
    {
     "data": {
      "text/plain": [
       "[]"
      ]
     },
     "execution_count": 7,
     "metadata": {},
     "output_type": "execute_result"
    }
   ],
   "source": [
    "%sql create table CREDIT_FRAUD_TABLE as select * from CREDIT_FRAUD"
   ]
  },
  {
   "cell_type": "markdown",
   "metadata": {},
   "source": [
    "Show the first 5 datapoints of the table"
   ]
  },
  {
   "cell_type": "code",
   "execution_count": null,
   "metadata": {},
   "outputs": [
    {
     "name": "stdout",
     "output_type": "stream",
     "text": [
      "[(0.0, -1.3598071336738, -0.0727811733098497, 2.53634673796914, 1.37815522427443, -0.338320769942518, 0.462387777762292, 0.239598554061257, 0.0986979012610507, 0.363786969611213, 0.0907941719789316, -0.551599533260813, -0.617800855762348, -0.991389847235408, -0.311169353699879, 1.46817697209427, -0.470400525259478, 0.207971241929242, 0.0257905801985591, 0.403992960255733, 0.251412098239705, -0.018306777944153, 0.277837575558899, -0.110473910188767, 0.0669280749146731, 0.128539358273528, -0.189114843888824, 0.133558376740387, -0.0210530534538215, 149.62, 0), (0.0, 1.19185711131486, 0.26615071205963, 0.16648011335321, 0.448154078460911, 0.0600176492822243, -0.0823608088155687, -0.0788029833323113, 0.0851016549148104, -0.255425128109186, -0.166974414004614, 1.61272666105479, 1.06523531137287, 0.48909501589608, -0.143772296441519, 0.635558093258208, 0.463917041022171, -0.114804663102346, -0.183361270123994, -0.145783041325259, -0.0690831352230203, -0.225775248033138, -0.638671952771851, 0.101288021253234, -0.339846475529127, 0.167170404418143, 0.125894532368176, -0.0089830991432281, 0.0147241691924927, 2.69, 0), (1.0, -1.35835406159823, -1.34016307473609, 1.77320934263119, 0.379779593034328, -0.503198133318193, 1.80049938079263, 0.791460956450422, 0.247675786588991, -1.51465432260583, 0.207642865216696, 0.624501459424895, 0.066083685268831, 0.717292731410831, -0.165945922763554, 2.34586494901581, -2.89008319444231, 1.10996937869599, -0.121359313195888, -2.26185709530414, 0.524979725224404, 0.247998153469754, 0.771679401917229, 0.909412262347719, -0.689280956490685, -0.327641833735251, -0.139096571514147, -0.0553527940384261, -0.0597518405929204, 378.66, 0), (1.0, -0.966271711572087, -0.185226008082898, 1.79299333957872, -0.863291275036453, -0.0103088796030823, 1.24720316752486, 0.23760893977178, 0.377435874652262, -1.38702406270197, -0.0549519224713749, -0.226487263835401, 0.178228225877303, 0.507756869957169, -0.28792374549456, -0.631418117709045, -1.0596472454325, -0.684092786345479, 1.96577500349538, -1.2326219700892, -0.208037781160366, -0.108300452035545, 0.0052735967825345, -0.190320518742841, -1.17557533186321, 0.647376034602038, -0.221928844458407, 0.0627228487293033, 0.0614576285006353, 123.5, 0), (2.0, -1.15823309349523, 0.877736754848451, 1.548717846511, 0.403033933955121, -0.407193377311653, 0.0959214624684256, 0.592940745385545, -0.270532677192282, 0.817739308235294, 0.753074431976354, -0.822842877946363, 0.53819555014995, 1.3458515932154, -1.11966983471731, 0.175121130008994, -0.451449182813529, -0.237033239362776, -0.0381947870352842, 0.803486924960175, 0.408542360392758, -0.0094306971323291, 0.79827849458971, -0.137458079619063, 0.141266983824769, -0.206009587619756, 0.502292224181569, 0.219422229513348, 0.215153147499206, 69.99, 0)]\n",
      "| Time |         V1         |          V2         |        V3        |         V4         |          V5         |          V6         |          V7         |         V8         |         V9         |         V10         |        V11         |        V12         |        V13         |        V14         |        V15         |        V16         |        V17         |         V18         |        V19         |         V20         |         V21         |        V22         |        V23         |        V24         |        V25         |        V26         |         V27         |         V28         | Amount | Class |\n",
      "| 0.0  |  -1.3598071336738  | -0.0727811733098497 | 2.53634673796914 |  1.37815522427443  |  -0.338320769942518 |  0.462387777762292  |  0.239598554061257  | 0.0986979012610507 | 0.363786969611213  |  0.0907941719789316 | -0.551599533260813 | -0.617800855762348 | -0.991389847235408 | -0.311169353699879 |  1.46817697209427  | -0.470400525259478 | 0.207971241929242  |  0.0257905801985591 | 0.403992960255733  |  0.251412098239705  |  -0.018306777944153 | 0.277837575558899  | -0.110473910188767 | 0.0669280749146731 | 0.128539358273528  | -0.189114843888824 |  0.133558376740387  | -0.0210530534538215 | 149.62 |   0   |\n",
      "| 0.0  |  1.19185711131486  |   0.26615071205963  | 0.16648011335321 | 0.448154078460911  |  0.0600176492822243 | -0.0823608088155687 | -0.0788029833323113 | 0.0851016549148104 | -0.255425128109186 |  -0.166974414004614 |  1.61272666105479  |  1.06523531137287  |  0.48909501589608  | -0.143772296441519 | 0.635558093258208  | 0.463917041022171  | -0.114804663102346 |  -0.183361270123994 | -0.145783041325259 | -0.0690831352230203 |  -0.225775248033138 | -0.638671952771851 | 0.101288021253234  | -0.339846475529127 | 0.167170404418143  | 0.125894532368176  | -0.0089830991432281 |  0.0147241691924927 |  2.69  |   0   |\n",
      "| 1.0  | -1.35835406159823  |  -1.34016307473609  | 1.77320934263119 | 0.379779593034328  |  -0.503198133318193 |   1.80049938079263  |  0.791460956450422  | 0.247675786588991  | -1.51465432260583  |  0.207642865216696  | 0.624501459424895  | 0.066083685268831  | 0.717292731410831  | -0.165945922763554 |  2.34586494901581  | -2.89008319444231  |  1.10996937869599  |  -0.121359313195888 | -2.26185709530414  |  0.524979725224404  |  0.247998153469754  | 0.771679401917229  | 0.909412262347719  | -0.689280956490685 | -0.327641833735251 | -0.139096571514147 | -0.0553527940384261 | -0.0597518405929204 | 378.66 |   0   |\n",
      "| 1.0  | -0.966271711572087 |  -0.185226008082898 | 1.79299333957872 | -0.863291275036453 | -0.0103088796030823 |   1.24720316752486  |   0.23760893977178  | 0.377435874652262  | -1.38702406270197  | -0.0549519224713749 | -0.226487263835401 | 0.178228225877303  | 0.507756869957169  | -0.28792374549456  | -0.631418117709045 |  -1.0596472454325  | -0.684092786345479 |   1.96577500349538  |  -1.2326219700892  |  -0.208037781160366 |  -0.108300452035545 | 0.0052735967825345 | -0.190320518742841 | -1.17557533186321  | 0.647376034602038  | -0.221928844458407 |  0.0627228487293033 |  0.0614576285006353 | 123.5  |   0   |\n",
      "| 2.0  | -1.15823309349523  |  0.877736754848451  |  1.548717846511  | 0.403033933955121  |  -0.407193377311653 |  0.0959214624684256 |  0.592940745385545  | -0.270532677192282 | 0.817739308235294  |  0.753074431976354  | -0.822842877946363 |  0.53819555014995  |  1.3458515932154   | -1.11966983471731  | 0.175121130008994  | -0.451449182813529 | -0.237033239362776 | -0.0381947870352842 | 0.803486924960175  |  0.408542360392758  | -0.0094306971323291 |  0.79827849458971  | -0.137458079619063 | 0.141266983824769  | -0.206009587619756 | 0.502292224181569  |  0.219422229513348  |  0.215153147499206  | 69.99  |   0   |\n"
     ]
    }
   ],
   "source": [
    "import prettytable as pt\n",
    "\n",
    "# Create a PrettyTable object and set the style\n",
    "table = pt.PrettyTable()\n",
    "table.set_style(pt.MSWORD_FRIENDLY)\n",
    "\n",
    "# Fetch the results from the SQL query\n",
    "results = cur.execute(\"SELECT * FROM CREDIT_FRAUD_TABLE LIMIT 5\").fetchall()\n",
    "\n",
    "# Get the column names from the cursor\n",
    "column_names = [description[0] for description in cur.description]\n",
    "\n",
    "# Add the column names to the table\n",
    "table.field_names = column_names\n",
    "\n",
    "# Add the rows to the table\n",
    "for row in results:\n",
    "    table.add_row(row)\n",
    "\n",
    "# Print the table\n",
    "print(table)"
   ]
  },
  {
   "cell_type": "markdown",
   "metadata": {},
   "source": [
    "Show how many datapoints based on Class"
   ]
  },
  {
   "cell_type": "code",
   "execution_count": 25,
   "metadata": {},
   "outputs": [
    {
     "name": "stdout",
     "output_type": "stream",
     "text": [
      "| Class | Count  |\n",
      "|   0   | 284315 |\n",
      "|   1   |  492   |\n"
     ]
    }
   ],
   "source": [
    "# Create a PrettyTable object and set the style\n",
    "table = pt.PrettyTable()\n",
    "table.set_style(pt.MSWORD_FRIENDLY)\n",
    "\n",
    "# Fetch the results from the SQL query to count distinct values and group by Class\n",
    "results = cur.execute(\"SELECT Class, COUNT(*) AS Count FROM CREDIT_FRAUD_TABLE GROUP BY Class\").fetchall()\n",
    "\n",
    "# Get the column names from the cursor\n",
    "column_names = [description[0] for description in cur.description]\n",
    "\n",
    "# Add the column names to the table\n",
    "table.field_names = column_names\n",
    "\n",
    "# Add the rows to the table\n",
    "for row in results:\n",
    "    table.add_row(row)\n",
    "\n",
    "# Print the table\n",
    "print(table)"
   ]
  },
  {
   "cell_type": "markdown",
   "metadata": {},
   "source": [
    "Show the average transaction amount for each class"
   ]
  },
  {
   "cell_type": "code",
   "execution_count": 37,
   "metadata": {},
   "outputs": [
    {
     "name": "stdout",
     "output_type": "stream",
     "text": [
      "| Class |   Average Amount   |\n",
      "|   0   | 88.29102242231328  |\n",
      "|   1   | 122.21132113821139 |\n"
     ]
    }
   ],
   "source": [
    "# Create a PrettyTable object and set the style\n",
    "table = pt.PrettyTable()\n",
    "table.set_style(pt.MSWORD_FRIENDLY)\n",
    "\n",
    "results = cur.execute(\"SELECT Class, AVG(Amount) AS 'Average Amount' FROM CREDIT_FRAUD_TABLE GROUP BY Class\").fetchall()\n",
    "\n",
    "# Get the column names from the cursor\n",
    "column_names = [description[0] for description in cur.description]\n",
    "\n",
    "# Add the column names to the table\n",
    "table.field_names = column_names\n",
    "\n",
    "# Add the rows to the table\n",
    "for row in results:\n",
    "    table.add_row(row)\n",
    "\n",
    "# Print the table\n",
    "print(table)"
   ]
  },
  {
   "cell_type": "markdown",
   "metadata": {},
   "source": [
    "Find the maximum transaction amount for each class"
   ]
  },
  {
   "cell_type": "code",
   "execution_count": 38,
   "metadata": {},
   "outputs": [
    {
     "name": "stdout",
     "output_type": "stream",
     "text": [
      "| Class | Maximum Amount |\n",
      "|   0   |    25691.16    |\n",
      "|   1   |    2125.87     |\n"
     ]
    }
   ],
   "source": [
    "# Create a PrettyTable object and set the style\n",
    "table = pt.PrettyTable()\n",
    "table.set_style(pt.MSWORD_FRIENDLY)\n",
    "\n",
    "results = cur.execute(\"SELECT Class, MAX(Amount) AS 'Maximum Amount' FROM CREDIT_FRAUD_TABLE GROUP BY Class\").fetchall()\n",
    "\n",
    "# Get the column names from the cursor\n",
    "column_names = [description[0] for description in cur.description]\n",
    "\n",
    "# Add the column names to the table\n",
    "table.field_names = column_names\n",
    "\n",
    "# Add the rows to the table\n",
    "for row in results:\n",
    "    table.add_row(row)\n",
    "\n",
    "# Print the table\n",
    "print(table)"
   ]
  },
  {
   "cell_type": "markdown",
   "metadata": {},
   "source": [
    "The following query retrive the most common amount in the transactions"
   ]
  },
  {
   "cell_type": "code",
   "execution_count": 36,
   "metadata": {},
   "outputs": [
    {
     "name": "stdout",
     "output_type": "stream",
     "text": [
      "| Amount | Frequency |\n",
      "|  1.0   |   13688   |\n",
      "|  1.98  |    6044   |\n",
      "|  0.89  |    4872   |\n",
      "|  9.99  |    4747   |\n",
      "|  15.0  |    3280   |\n",
      "|  0.76  |    2998   |\n",
      "|  10.0  |    2950   |\n",
      "|  1.29  |    2892   |\n",
      "|  1.79  |    2623   |\n",
      "|  0.99  |    2304   |\n"
     ]
    }
   ],
   "source": [
    "# Create a PrettyTable object and set the style\n",
    "table = pt.PrettyTable()\n",
    "table.set_style(pt.MSWORD_FRIENDLY)\n",
    "\n",
    "results = cur.execute(\"SELECT Amount, COUNT(*) AS Frequency FROM CREDIT_FRAUD_TABLE GROUP BY Amount ORDER BY Frequency DESC LIMIT 10\").fetchall()\n",
    "\n",
    "# Get the column names from the cursor\n",
    "column_names = [description[0] for description in cur.description]\n",
    "\n",
    "# Add the column names to the table\n",
    "table.field_names = column_names\n",
    "\n",
    "# Add the rows to the table\n",
    "for row in results:\n",
    "    table.add_row(row)\n",
    "\n",
    "# Print the table\n",
    "print(table)"
   ]
  },
  {
   "cell_type": "markdown",
   "metadata": {},
   "source": [
    "The following query retrieves the top 10 time periods with the highest total transaction amounts from the CREDIT_FRAUD_TABLE"
   ]
  },
  {
   "cell_type": "code",
   "execution_count": 34,
   "metadata": {},
   "outputs": [
    {
     "name": "stdout",
     "output_type": "stream",
     "text": [
      "|   Time   |    Total Amount    |\n",
      "| 166198.0 |      25691.16      |\n",
      "| 48401.0  | 19682.289999999997 |\n",
      "| 95286.0  |      18910.99      |\n",
      "| 42951.0  |      13745.93      |\n",
      "| 119713.0 |      12028.05      |\n",
      "| 46253.0  |      11924.09      |\n",
      "| 172273.0 |      10228.28      |\n",
      "| 145283.0 |      10039.95      |\n",
      "| 68780.0  |       9427.6       |\n",
      "| 55709.0  |      9275.49       |\n"
     ]
    }
   ],
   "source": [
    "# Create a PrettyTable object and set the style\n",
    "table = pt.PrettyTable()\n",
    "table.set_style(pt.MSWORD_FRIENDLY)\n",
    "\n",
    "results = cur.execute(\"SELECT Time, sum(Amount) AS 'Total Amount' FROM CREDIT_FRAUD_TABLE GROUP BY Time ORDER BY sum(Amount) DESC LIMIT 10\").fetchall()\n",
    "\n",
    "# Get the column names from the cursor\n",
    "column_names = [description[0] for description in cur.description]\n",
    "\n",
    "# Add the column names to the table\n",
    "table.field_names = column_names\n",
    "\n",
    "# Add the rows to the table\n",
    "for row in results:\n",
    "    table.add_row(row)\n",
    "\n",
    "# Print the table\n",
    "print(table)"
   ]
  }
 ],
 "metadata": {
  "kernelspec": {
   "display_name": "env_ml_sp",
   "language": "python",
   "name": "python3"
  },
  "language_info": {
   "codemirror_mode": {
    "name": "ipython",
    "version": 3
   },
   "file_extension": ".py",
   "mimetype": "text/x-python",
   "name": "python",
   "nbconvert_exporter": "python",
   "pygments_lexer": "ipython3",
   "version": "3.12.2"
  }
 },
 "nbformat": 4,
 "nbformat_minor": 2
}
