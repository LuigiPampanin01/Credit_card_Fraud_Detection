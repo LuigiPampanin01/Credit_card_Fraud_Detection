{
 "cells": [
  {
   "cell_type": "markdown",
   "metadata": {},
   "source": [
    "# Fraud Detection Analysis | Exploratory Data Analysis with SQL\n",
    "\n",
    "In this analysis, we will load our fraud detection dataset into a SQL server to perform various queries and gain insights. We will start by importing the dataset into the server, ensuring that the data is properly structured and indexed for efficient querying. Once the data is loaded, we will execute a series of SQL queries to explore the dataset, identify patterns, and detect any anomalies. This will include aggregating data, filtering records, joining tables, and using advanced SQL functions to uncover trends and correlations that could indicate fraudulent activities. Through this process, we aim to build a comprehensive understanding of the dataset and lay the groundwork for further analysis and model building."
   ]
  },
  {
   "cell_type": "markdown",
   "metadata": {},
   "source": [
    "Load the SQL extension for Jupyter"
   ]
  },
  {
   "cell_type": "code",
   "execution_count": 2,
   "metadata": {},
   "outputs": [
    {
     "name": "stdout",
     "output_type": "stream",
     "text": [
      "The sql extension is already loaded. To reload it, use:\n",
      "  %reload_ext sql\n"
     ]
    }
   ],
   "source": [
    "%load_ext sql"
   ]
  },
  {
   "cell_type": "markdown",
   "metadata": {},
   "source": [
    "Establish SQLite connection"
   ]
  },
  {
   "cell_type": "code",
   "execution_count": 3,
   "metadata": {},
   "outputs": [],
   "source": [
    "# Import necessary libraries\n",
    "import csv, sqlite3\n",
    "import pandas as pd\n",
    "\n",
    "con = sqlite3.connect(\"my_data1.db\")\n",
    "cur = con.cursor()"
   ]
  },
  {
   "cell_type": "markdown",
   "metadata": {},
   "source": [
    "Connect to SQLite using SQL magic"
   ]
  },
  {
   "cell_type": "code",
   "execution_count": 4,
   "metadata": {},
   "outputs": [],
   "source": [
    "%sql sqlite:///my_data1.db"
   ]
  },
  {
   "cell_type": "markdown",
   "metadata": {},
   "source": [
    "Upload the dataset in the database; it's done through chunks because SQLite has a limit on the number of variables (columns) that can be used in a single SQL statement."
   ]
  },
  {
   "cell_type": "code",
   "execution_count": 6,
   "metadata": {},
   "outputs": [],
   "source": [
    "# Read CSV into pandas DataFrame\n",
    "file_name = 'DATA/creditcard.csv'\n",
    "data = pd.read_csv(file_name)\n",
    "\n",
    "# Import DataFrame to SQLite table in chunks\n",
    "chunk_size = 1000  # Adjust the chunk size if necessary\n",
    "for i in range(0, len(data), chunk_size):\n",
    "    data_chunk = data.iloc[i:i + chunk_size]\n",
    "    data_chunk.to_sql(\"CREDIT_FRAUD\", con, if_exists='append', index=False)"
   ]
  },
  {
   "cell_type": "markdown",
   "metadata": {},
   "source": [
    "Create a table "
   ]
  },
  {
   "cell_type": "code",
   "execution_count": 7,
   "metadata": {},
   "outputs": [
    {
     "name": "stdout",
     "output_type": "stream",
     "text": [
      " * sqlite:///my_data1.db\n",
      "Done.\n"
     ]
    },
    {
     "data": {
      "text/plain": [
       "[]"
      ]
     },
     "execution_count": 7,
     "metadata": {},
     "output_type": "execute_result"
    }
   ],
   "source": [
    "%sql create table CREDIT_FRAUD_TABLE as select * from CREDIT_FRAUD"
   ]
  },
  {
   "cell_type": "markdown",
   "metadata": {},
   "source": [
    "Show the first 5 datapoints of the table (only Time and Amount)"
   ]
  },
  {
   "cell_type": "code",
   "execution_count": 41,
   "metadata": {},
   "outputs": [
    {
     "name": "stdout",
     "output_type": "stream",
     "text": [
      "| Time | Amount |\n",
      "| 0.0  | 149.62 |\n",
      "| 0.0  |  2.69  |\n",
      "| 1.0  | 378.66 |\n",
      "| 1.0  | 123.5  |\n",
      "| 2.0  | 69.99  |\n"
     ]
    }
   ],
   "source": [
    "import prettytable as pt\n",
    "\n",
    "# Create a PrettyTable object and set the style\n",
    "table = pt.PrettyTable()\n",
    "table.set_style(pt.MSWORD_FRIENDLY)\n",
    "\n",
    "# Fetch the results from the SQL query\n",
    "results = cur.execute(\"SELECT Time, Amount FROM CREDIT_FRAUD_TABLE LIMIT 5\").fetchall()\n",
    "\n",
    "# Get the column names from the cursor\n",
    "column_names = [description[0] for description in cur.description]\n",
    "\n",
    "# Add the column names to the table\n",
    "table.field_names = column_names\n",
    "\n",
    "# Add the rows to the table\n",
    "for row in results:\n",
    "    table.add_row(row)\n",
    "\n",
    "# Print the table\n",
    "print(table)"
   ]
  },
  {
   "cell_type": "markdown",
   "metadata": {},
   "source": [
    "Show how many datapoints based on Class"
   ]
  },
  {
   "cell_type": "code",
   "execution_count": 25,
   "metadata": {},
   "outputs": [
    {
     "name": "stdout",
     "output_type": "stream",
     "text": [
      "| Class | Count  |\n",
      "|   0   | 284315 |\n",
      "|   1   |  492   |\n"
     ]
    }
   ],
   "source": [
    "# Create a PrettyTable object and set the style\n",
    "table = pt.PrettyTable()\n",
    "table.set_style(pt.MSWORD_FRIENDLY)\n",
    "\n",
    "# Fetch the results from the SQL query to count distinct values and group by Class\n",
    "results = cur.execute(\"SELECT Class, COUNT(*) AS Count FROM CREDIT_FRAUD_TABLE GROUP BY Class\").fetchall()\n",
    "\n",
    "# Get the column names from the cursor\n",
    "column_names = [description[0] for description in cur.description]\n",
    "\n",
    "# Add the column names to the table\n",
    "table.field_names = column_names\n",
    "\n",
    "# Add the rows to the table\n",
    "for row in results:\n",
    "    table.add_row(row)\n",
    "\n",
    "# Print the table\n",
    "print(table)"
   ]
  },
  {
   "cell_type": "markdown",
   "metadata": {},
   "source": [
    "Show the average transaction amount for each class"
   ]
  },
  {
   "cell_type": "code",
   "execution_count": 37,
   "metadata": {},
   "outputs": [
    {
     "name": "stdout",
     "output_type": "stream",
     "text": [
      "| Class |   Average Amount   |\n",
      "|   0   | 88.29102242231328  |\n",
      "|   1   | 122.21132113821139 |\n"
     ]
    }
   ],
   "source": [
    "# Create a PrettyTable object and set the style\n",
    "table = pt.PrettyTable()\n",
    "table.set_style(pt.MSWORD_FRIENDLY)\n",
    "\n",
    "results = cur.execute(\"SELECT Class, AVG(Amount) AS 'Average Amount' FROM CREDIT_FRAUD_TABLE GROUP BY Class\").fetchall()\n",
    "\n",
    "# Get the column names from the cursor\n",
    "column_names = [description[0] for description in cur.description]\n",
    "\n",
    "# Add the column names to the table\n",
    "table.field_names = column_names\n",
    "\n",
    "# Add the rows to the table\n",
    "for row in results:\n",
    "    table.add_row(row)\n",
    "\n",
    "# Print the table\n",
    "print(table)"
   ]
  },
  {
   "cell_type": "markdown",
   "metadata": {},
   "source": [
    "Find the maximum transaction amount for each class"
   ]
  },
  {
   "cell_type": "code",
   "execution_count": 38,
   "metadata": {},
   "outputs": [
    {
     "name": "stdout",
     "output_type": "stream",
     "text": [
      "| Class | Maximum Amount |\n",
      "|   0   |    25691.16    |\n",
      "|   1   |    2125.87     |\n"
     ]
    }
   ],
   "source": [
    "# Create a PrettyTable object and set the style\n",
    "table = pt.PrettyTable()\n",
    "table.set_style(pt.MSWORD_FRIENDLY)\n",
    "\n",
    "results = cur.execute(\"SELECT Class, MAX(Amount) AS 'Maximum Amount' FROM CREDIT_FRAUD_TABLE GROUP BY Class\").fetchall()\n",
    "\n",
    "# Get the column names from the cursor\n",
    "column_names = [description[0] for description in cur.description]\n",
    "\n",
    "# Add the column names to the table\n",
    "table.field_names = column_names\n",
    "\n",
    "# Add the rows to the table\n",
    "for row in results:\n",
    "    table.add_row(row)\n",
    "\n",
    "# Print the table\n",
    "print(table)"
   ]
  },
  {
   "cell_type": "markdown",
   "metadata": {},
   "source": [
    "The following query retrive the most common amount in the transactions"
   ]
  },
  {
   "cell_type": "code",
   "execution_count": 36,
   "metadata": {},
   "outputs": [
    {
     "name": "stdout",
     "output_type": "stream",
     "text": [
      "| Amount | Frequency |\n",
      "|  1.0   |   13688   |\n",
      "|  1.98  |    6044   |\n",
      "|  0.89  |    4872   |\n",
      "|  9.99  |    4747   |\n",
      "|  15.0  |    3280   |\n",
      "|  0.76  |    2998   |\n",
      "|  10.0  |    2950   |\n",
      "|  1.29  |    2892   |\n",
      "|  1.79  |    2623   |\n",
      "|  0.99  |    2304   |\n"
     ]
    }
   ],
   "source": [
    "# Create a PrettyTable object and set the style\n",
    "table = pt.PrettyTable()\n",
    "table.set_style(pt.MSWORD_FRIENDLY)\n",
    "\n",
    "results = cur.execute(\"SELECT Amount, COUNT(*) AS Frequency FROM CREDIT_FRAUD_TABLE GROUP BY Amount ORDER BY Frequency DESC LIMIT 10\").fetchall()\n",
    "\n",
    "# Get the column names from the cursor\n",
    "column_names = [description[0] for description in cur.description]\n",
    "\n",
    "# Add the column names to the table\n",
    "table.field_names = column_names\n",
    "\n",
    "# Add the rows to the table\n",
    "for row in results:\n",
    "    table.add_row(row)\n",
    "\n",
    "# Print the table\n",
    "print(table)"
   ]
  },
  {
   "cell_type": "markdown",
   "metadata": {},
   "source": [
    "The following query retrieves the top 10 time periods with the highest total transaction amounts from the CREDIT_FRAUD_TABLE"
   ]
  },
  {
   "cell_type": "code",
   "execution_count": 34,
   "metadata": {},
   "outputs": [
    {
     "name": "stdout",
     "output_type": "stream",
     "text": [
      "|   Time   |    Total Amount    |\n",
      "| 166198.0 |      25691.16      |\n",
      "| 48401.0  | 19682.289999999997 |\n",
      "| 95286.0  |      18910.99      |\n",
      "| 42951.0  |      13745.93      |\n",
      "| 119713.0 |      12028.05      |\n",
      "| 46253.0  |      11924.09      |\n",
      "| 172273.0 |      10228.28      |\n",
      "| 145283.0 |      10039.95      |\n",
      "| 68780.0  |       9427.6       |\n",
      "| 55709.0  |      9275.49       |\n"
     ]
    }
   ],
   "source": [
    "# Create a PrettyTable object and set the style\n",
    "table = pt.PrettyTable()\n",
    "table.set_style(pt.MSWORD_FRIENDLY)\n",
    "\n",
    "results = cur.execute(\"SELECT Time, sum(Amount) AS 'Total Amount' FROM CREDIT_FRAUD_TABLE GROUP BY Time ORDER BY sum(Amount) DESC LIMIT 10\").fetchall()\n",
    "\n",
    "# Get the column names from the cursor\n",
    "column_names = [description[0] for description in cur.description]\n",
    "\n",
    "# Add the column names to the table\n",
    "table.field_names = column_names\n",
    "\n",
    "# Add the rows to the table\n",
    "for row in results:\n",
    "    table.add_row(row)\n",
    "\n",
    "# Print the table\n",
    "print(table)"
   ]
  }
 ],
 "metadata": {
  "kernelspec": {
   "display_name": "env_ml_sp",
   "language": "python",
   "name": "python3"
  },
  "language_info": {
   "codemirror_mode": {
    "name": "ipython",
    "version": 3
   },
   "file_extension": ".py",
   "mimetype": "text/x-python",
   "name": "python",
   "nbconvert_exporter": "python",
   "pygments_lexer": "ipython3",
   "version": "3.12.2"
  }
 },
 "nbformat": 4,
 "nbformat_minor": 2
}
